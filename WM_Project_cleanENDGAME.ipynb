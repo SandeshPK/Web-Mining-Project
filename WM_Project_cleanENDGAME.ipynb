{
  "cells": [
    {
      "cell_type": "code",
      "execution_count": null,
      "metadata": {
        "id": "_3W9ST8eEhGF"
      },
      "outputs": [],
      "source": [
        "import numpy as np\n",
        "import pandas as pd\n",
        "from sklearn.feature_extraction.text import TfidfVectorizer"
      ]
    },
    {
      "cell_type": "code",
      "execution_count": null,
      "metadata": {
        "id": "o2MFw94WFKLA"
      },
      "outputs": [],
      "source": [
        "trainf = pd.read_csv('/content/drive/MyDrive/Colab Notebooks/WM/train_merged.csv')\n",
        "testf = pd.read_csv('/content/drive/MyDrive/Colab Notebooks/WM/test_merged.csv')"
      ]
    },
    {
      "cell_type": "code",
      "execution_count": null,
      "metadata": {
        "colab": {
          "base_uri": "https://localhost:8080/",
          "height": 424
        },
        "id": "j7ILByGik9pW",
        "outputId": "5e911ac5-5e5e-4979-b627-5989d990876a"
      },
      "outputs": [
        {
          "data": {
            "text/html": [
              "\n",
              "  <div id=\"df-060a5f3c-ffe3-4353-a0d5-a368415a4db8\">\n",
              "    <div class=\"colab-df-container\">\n",
              "      <div>\n",
              "<style scoped>\n",
              "    .dataframe tbody tr th:only-of-type {\n",
              "        vertical-align: middle;\n",
              "    }\n",
              "\n",
              "    .dataframe tbody tr th {\n",
              "        vertical-align: top;\n",
              "    }\n",
              "\n",
              "    .dataframe thead th {\n",
              "        text-align: right;\n",
              "    }\n",
              "</style>\n",
              "<table border=\"1\" class=\"dataframe\">\n",
              "  <thead>\n",
              "    <tr style=\"text-align: right;\">\n",
              "      <th></th>\n",
              "      <th>Body ID</th>\n",
              "      <th>articleBody</th>\n",
              "      <th>Headline</th>\n",
              "      <th>Stance</th>\n",
              "    </tr>\n",
              "  </thead>\n",
              "  <tbody>\n",
              "    <tr>\n",
              "      <th>0</th>\n",
              "      <td>0</td>\n",
              "      <td>A small meteorite crashed into a wooded area i...</td>\n",
              "      <td>Soldier shot, Parliament locked down after gun...</td>\n",
              "      <td>unrelated</td>\n",
              "    </tr>\n",
              "    <tr>\n",
              "      <th>1</th>\n",
              "      <td>0</td>\n",
              "      <td>A small meteorite crashed into a wooded area i...</td>\n",
              "      <td>Tourist dubbed Spider Man after spider burro...</td>\n",
              "      <td>unrelated</td>\n",
              "    </tr>\n",
              "    <tr>\n",
              "      <th>2</th>\n",
              "      <td>0</td>\n",
              "      <td>A small meteorite crashed into a wooded area i...</td>\n",
              "      <td>Luke Somers 'killed in failed rescue attempt i...</td>\n",
              "      <td>unrelated</td>\n",
              "    </tr>\n",
              "    <tr>\n",
              "      <th>3</th>\n",
              "      <td>0</td>\n",
              "      <td>A small meteorite crashed into a wooded area i...</td>\n",
              "      <td>BREAKING: Soldier shot at War Memorial in Ottawa</td>\n",
              "      <td>unrelated</td>\n",
              "    </tr>\n",
              "    <tr>\n",
              "      <th>4</th>\n",
              "      <td>0</td>\n",
              "      <td>A small meteorite crashed into a wooded area i...</td>\n",
              "      <td>Giant 8ft 9in catfish weighing 19 stone caught...</td>\n",
              "      <td>unrelated</td>\n",
              "    </tr>\n",
              "    <tr>\n",
              "      <th>...</th>\n",
              "      <td>...</td>\n",
              "      <td>...</td>\n",
              "      <td>...</td>\n",
              "      <td>...</td>\n",
              "    </tr>\n",
              "    <tr>\n",
              "      <th>49967</th>\n",
              "      <td>2532</td>\n",
              "      <td>ANN ARBOR, Mich. â?? A pizza delivery man in M...</td>\n",
              "      <td>Pizza delivery man gets tipped more than $2,00...</td>\n",
              "      <td>agree</td>\n",
              "    </tr>\n",
              "    <tr>\n",
              "      <th>49968</th>\n",
              "      <td>2532</td>\n",
              "      <td>ANN ARBOR, Mich. â?? A pizza delivery man in M...</td>\n",
              "      <td>Pizza delivery man gets $2,000 tip</td>\n",
              "      <td>agree</td>\n",
              "    </tr>\n",
              "    <tr>\n",
              "      <th>49969</th>\n",
              "      <td>2532</td>\n",
              "      <td>ANN ARBOR, Mich. â?? A pizza delivery man in M...</td>\n",
              "      <td>Luckiest Pizza Delivery Guy Ever Gets $2,000 Tip</td>\n",
              "      <td>agree</td>\n",
              "    </tr>\n",
              "    <tr>\n",
              "      <th>49970</th>\n",
              "      <td>2532</td>\n",
              "      <td>ANN ARBOR, Mich. â?? A pizza delivery man in M...</td>\n",
              "      <td>Ann Arbor pizza delivery driver surprised with...</td>\n",
              "      <td>agree</td>\n",
              "    </tr>\n",
              "    <tr>\n",
              "      <th>49971</th>\n",
              "      <td>2532</td>\n",
              "      <td>ANN ARBOR, Mich. â?? A pizza delivery man in M...</td>\n",
              "      <td>Ann Arbor pizza delivery driver surprised with...</td>\n",
              "      <td>agree</td>\n",
              "    </tr>\n",
              "  </tbody>\n",
              "</table>\n",
              "<p>49972 rows × 4 columns</p>\n",
              "</div>\n",
              "      <button class=\"colab-df-convert\" onclick=\"convertToInteractive('df-060a5f3c-ffe3-4353-a0d5-a368415a4db8')\"\n",
              "              title=\"Convert this dataframe to an interactive table.\"\n",
              "              style=\"display:none;\">\n",
              "        \n",
              "  <svg xmlns=\"http://www.w3.org/2000/svg\" height=\"24px\"viewBox=\"0 0 24 24\"\n",
              "       width=\"24px\">\n",
              "    <path d=\"M0 0h24v24H0V0z\" fill=\"none\"/>\n",
              "    <path d=\"M18.56 5.44l.94 2.06.94-2.06 2.06-.94-2.06-.94-.94-2.06-.94 2.06-2.06.94zm-11 1L8.5 8.5l.94-2.06 2.06-.94-2.06-.94L8.5 2.5l-.94 2.06-2.06.94zm10 10l.94 2.06.94-2.06 2.06-.94-2.06-.94-.94-2.06-.94 2.06-2.06.94z\"/><path d=\"M17.41 7.96l-1.37-1.37c-.4-.4-.92-.59-1.43-.59-.52 0-1.04.2-1.43.59L10.3 9.45l-7.72 7.72c-.78.78-.78 2.05 0 2.83L4 21.41c.39.39.9.59 1.41.59.51 0 1.02-.2 1.41-.59l7.78-7.78 2.81-2.81c.8-.78.8-2.07 0-2.86zM5.41 20L4 18.59l7.72-7.72 1.47 1.35L5.41 20z\"/>\n",
              "  </svg>\n",
              "      </button>\n",
              "      \n",
              "  <style>\n",
              "    .colab-df-container {\n",
              "      display:flex;\n",
              "      flex-wrap:wrap;\n",
              "      gap: 12px;\n",
              "    }\n",
              "\n",
              "    .colab-df-convert {\n",
              "      background-color: #E8F0FE;\n",
              "      border: none;\n",
              "      border-radius: 50%;\n",
              "      cursor: pointer;\n",
              "      display: none;\n",
              "      fill: #1967D2;\n",
              "      height: 32px;\n",
              "      padding: 0 0 0 0;\n",
              "      width: 32px;\n",
              "    }\n",
              "\n",
              "    .colab-df-convert:hover {\n",
              "      background-color: #E2EBFA;\n",
              "      box-shadow: 0px 1px 2px rgba(60, 64, 67, 0.3), 0px 1px 3px 1px rgba(60, 64, 67, 0.15);\n",
              "      fill: #174EA6;\n",
              "    }\n",
              "\n",
              "    [theme=dark] .colab-df-convert {\n",
              "      background-color: #3B4455;\n",
              "      fill: #D2E3FC;\n",
              "    }\n",
              "\n",
              "    [theme=dark] .colab-df-convert:hover {\n",
              "      background-color: #434B5C;\n",
              "      box-shadow: 0px 1px 3px 1px rgba(0, 0, 0, 0.15);\n",
              "      filter: drop-shadow(0px 1px 2px rgba(0, 0, 0, 0.3));\n",
              "      fill: #FFFFFF;\n",
              "    }\n",
              "  </style>\n",
              "\n",
              "      <script>\n",
              "        const buttonEl =\n",
              "          document.querySelector('#df-060a5f3c-ffe3-4353-a0d5-a368415a4db8 button.colab-df-convert');\n",
              "        buttonEl.style.display =\n",
              "          google.colab.kernel.accessAllowed ? 'block' : 'none';\n",
              "\n",
              "        async function convertToInteractive(key) {\n",
              "          const element = document.querySelector('#df-060a5f3c-ffe3-4353-a0d5-a368415a4db8');\n",
              "          const dataTable =\n",
              "            await google.colab.kernel.invokeFunction('convertToInteractive',\n",
              "                                                     [key], {});\n",
              "          if (!dataTable) return;\n",
              "\n",
              "          const docLinkHtml = 'Like what you see? Visit the ' +\n",
              "            '<a target=\"_blank\" href=https://colab.research.google.com/notebooks/data_table.ipynb>data table notebook</a>'\n",
              "            + ' to learn more about interactive tables.';\n",
              "          element.innerHTML = '';\n",
              "          dataTable['output_type'] = 'display_data';\n",
              "          await google.colab.output.renderOutput(dataTable, element);\n",
              "          const docLink = document.createElement('div');\n",
              "          docLink.innerHTML = docLinkHtml;\n",
              "          element.appendChild(docLink);\n",
              "        }\n",
              "      </script>\n",
              "    </div>\n",
              "  </div>\n",
              "  "
            ],
            "text/plain": [
              "       Body ID                                        articleBody  \\\n",
              "0            0  A small meteorite crashed into a wooded area i...   \n",
              "1            0  A small meteorite crashed into a wooded area i...   \n",
              "2            0  A small meteorite crashed into a wooded area i...   \n",
              "3            0  A small meteorite crashed into a wooded area i...   \n",
              "4            0  A small meteorite crashed into a wooded area i...   \n",
              "...        ...                                                ...   \n",
              "49967     2532  ANN ARBOR, Mich. â?? A pizza delivery man in M...   \n",
              "49968     2532  ANN ARBOR, Mich. â?? A pizza delivery man in M...   \n",
              "49969     2532  ANN ARBOR, Mich. â?? A pizza delivery man in M...   \n",
              "49970     2532  ANN ARBOR, Mich. â?? A pizza delivery man in M...   \n",
              "49971     2532  ANN ARBOR, Mich. â?? A pizza delivery man in M...   \n",
              "\n",
              "                                                Headline     Stance  \n",
              "0      Soldier shot, Parliament locked down after gun...  unrelated  \n",
              "1      Tourist dubbed Spider Man after spider burro...  unrelated  \n",
              "2      Luke Somers 'killed in failed rescue attempt i...  unrelated  \n",
              "3       BREAKING: Soldier shot at War Memorial in Ottawa  unrelated  \n",
              "4      Giant 8ft 9in catfish weighing 19 stone caught...  unrelated  \n",
              "...                                                  ...        ...  \n",
              "49967  Pizza delivery man gets tipped more than $2,00...      agree  \n",
              "49968                 Pizza delivery man gets $2,000 tip      agree  \n",
              "49969   Luckiest Pizza Delivery Guy Ever Gets $2,000 Tip      agree  \n",
              "49970  Ann Arbor pizza delivery driver surprised with...      agree  \n",
              "49971  Ann Arbor pizza delivery driver surprised with...      agree  \n",
              "\n",
              "[49972 rows x 4 columns]"
            ]
          },
          "execution_count": 4,
          "metadata": {},
          "output_type": "execute_result"
        }
      ],
      "source": [
        "trainf"
      ]
    },
    {
      "cell_type": "code",
      "execution_count": null,
      "metadata": {
        "colab": {
          "base_uri": "https://localhost:8080/",
          "height": 424
        },
        "id": "vZEdR9rhlAqk",
        "outputId": "a078a0e5-da50-47c5-f871-5f324152260a"
      },
      "outputs": [
        {
          "data": {
            "text/html": [
              "\n",
              "  <div id=\"df-8fd9311c-5b70-4cc6-a053-ae4cf0d81912\">\n",
              "    <div class=\"colab-df-container\">\n",
              "      <div>\n",
              "<style scoped>\n",
              "    .dataframe tbody tr th:only-of-type {\n",
              "        vertical-align: middle;\n",
              "    }\n",
              "\n",
              "    .dataframe tbody tr th {\n",
              "        vertical-align: top;\n",
              "    }\n",
              "\n",
              "    .dataframe thead th {\n",
              "        text-align: right;\n",
              "    }\n",
              "</style>\n",
              "<table border=\"1\" class=\"dataframe\">\n",
              "  <thead>\n",
              "    <tr style=\"text-align: right;\">\n",
              "      <th></th>\n",
              "      <th>Body ID</th>\n",
              "      <th>articleBody</th>\n",
              "      <th>Headline</th>\n",
              "      <th>Stance</th>\n",
              "    </tr>\n",
              "  </thead>\n",
              "  <tbody>\n",
              "    <tr>\n",
              "      <th>0</th>\n",
              "      <td>1</td>\n",
              "      <td>Al-Sisi has denied Israeli reports stating tha...</td>\n",
              "      <td>Apple installing safes in-store to protect gol...</td>\n",
              "      <td>unrelated</td>\n",
              "    </tr>\n",
              "    <tr>\n",
              "      <th>1</th>\n",
              "      <td>1</td>\n",
              "      <td>Al-Sisi has denied Israeli reports stating tha...</td>\n",
              "      <td>El-Sisi denies claims he'll give Sinai land to...</td>\n",
              "      <td>agree</td>\n",
              "    </tr>\n",
              "    <tr>\n",
              "      <th>2</th>\n",
              "      <td>1</td>\n",
              "      <td>Al-Sisi has denied Israeli reports stating tha...</td>\n",
              "      <td>Apple to keep gold Watch Editions in special i...</td>\n",
              "      <td>unrelated</td>\n",
              "    </tr>\n",
              "    <tr>\n",
              "      <th>3</th>\n",
              "      <td>1</td>\n",
              "      <td>Al-Sisi has denied Israeli reports stating tha...</td>\n",
              "      <td>Apple Stores to Keep Gold â??Editionâ?? Apple ...</td>\n",
              "      <td>unrelated</td>\n",
              "    </tr>\n",
              "    <tr>\n",
              "      <th>4</th>\n",
              "      <td>1</td>\n",
              "      <td>Al-Sisi has denied Israeli reports stating tha...</td>\n",
              "      <td>South Korean woman's hair 'eaten' by robot vac...</td>\n",
              "      <td>unrelated</td>\n",
              "    </tr>\n",
              "    <tr>\n",
              "      <th>...</th>\n",
              "      <td>...</td>\n",
              "      <td>...</td>\n",
              "      <td>...</td>\n",
              "      <td>...</td>\n",
              "    </tr>\n",
              "    <tr>\n",
              "      <th>25408</th>\n",
              "      <td>2586</td>\n",
              "      <td>Remember how much Republicans wanted to repeal...</td>\n",
              "      <td>A Sign That Obamacare Exchanges Are Failing</td>\n",
              "      <td>disagree</td>\n",
              "    </tr>\n",
              "    <tr>\n",
              "      <th>25409</th>\n",
              "      <td>2586</td>\n",
              "      <td>Remember how much Republicans wanted to repeal...</td>\n",
              "      <td>Republicans call Obamacare a 'failure.' These ...</td>\n",
              "      <td>agree</td>\n",
              "    </tr>\n",
              "    <tr>\n",
              "      <th>25410</th>\n",
              "      <td>2586</td>\n",
              "      <td>Remember how much Republicans wanted to repeal...</td>\n",
              "      <td>CBOâ??s Alternate Facts Show Obamacare is Unsu...</td>\n",
              "      <td>disagree</td>\n",
              "    </tr>\n",
              "    <tr>\n",
              "      <th>25411</th>\n",
              "      <td>2586</td>\n",
              "      <td>Remember how much Republicans wanted to repeal...</td>\n",
              "      <td>Why Obamacare failed</td>\n",
              "      <td>disagree</td>\n",
              "    </tr>\n",
              "    <tr>\n",
              "      <th>25412</th>\n",
              "      <td>2586</td>\n",
              "      <td>Remember how much Republicans wanted to repeal...</td>\n",
              "      <td>The success of the Affordable Care Act is a hu...</td>\n",
              "      <td>agree</td>\n",
              "    </tr>\n",
              "  </tbody>\n",
              "</table>\n",
              "<p>25413 rows × 4 columns</p>\n",
              "</div>\n",
              "      <button class=\"colab-df-convert\" onclick=\"convertToInteractive('df-8fd9311c-5b70-4cc6-a053-ae4cf0d81912')\"\n",
              "              title=\"Convert this dataframe to an interactive table.\"\n",
              "              style=\"display:none;\">\n",
              "        \n",
              "  <svg xmlns=\"http://www.w3.org/2000/svg\" height=\"24px\"viewBox=\"0 0 24 24\"\n",
              "       width=\"24px\">\n",
              "    <path d=\"M0 0h24v24H0V0z\" fill=\"none\"/>\n",
              "    <path d=\"M18.56 5.44l.94 2.06.94-2.06 2.06-.94-2.06-.94-.94-2.06-.94 2.06-2.06.94zm-11 1L8.5 8.5l.94-2.06 2.06-.94-2.06-.94L8.5 2.5l-.94 2.06-2.06.94zm10 10l.94 2.06.94-2.06 2.06-.94-2.06-.94-.94-2.06-.94 2.06-2.06.94z\"/><path d=\"M17.41 7.96l-1.37-1.37c-.4-.4-.92-.59-1.43-.59-.52 0-1.04.2-1.43.59L10.3 9.45l-7.72 7.72c-.78.78-.78 2.05 0 2.83L4 21.41c.39.39.9.59 1.41.59.51 0 1.02-.2 1.41-.59l7.78-7.78 2.81-2.81c.8-.78.8-2.07 0-2.86zM5.41 20L4 18.59l7.72-7.72 1.47 1.35L5.41 20z\"/>\n",
              "  </svg>\n",
              "      </button>\n",
              "      \n",
              "  <style>\n",
              "    .colab-df-container {\n",
              "      display:flex;\n",
              "      flex-wrap:wrap;\n",
              "      gap: 12px;\n",
              "    }\n",
              "\n",
              "    .colab-df-convert {\n",
              "      background-color: #E8F0FE;\n",
              "      border: none;\n",
              "      border-radius: 50%;\n",
              "      cursor: pointer;\n",
              "      display: none;\n",
              "      fill: #1967D2;\n",
              "      height: 32px;\n",
              "      padding: 0 0 0 0;\n",
              "      width: 32px;\n",
              "    }\n",
              "\n",
              "    .colab-df-convert:hover {\n",
              "      background-color: #E2EBFA;\n",
              "      box-shadow: 0px 1px 2px rgba(60, 64, 67, 0.3), 0px 1px 3px 1px rgba(60, 64, 67, 0.15);\n",
              "      fill: #174EA6;\n",
              "    }\n",
              "\n",
              "    [theme=dark] .colab-df-convert {\n",
              "      background-color: #3B4455;\n",
              "      fill: #D2E3FC;\n",
              "    }\n",
              "\n",
              "    [theme=dark] .colab-df-convert:hover {\n",
              "      background-color: #434B5C;\n",
              "      box-shadow: 0px 1px 3px 1px rgba(0, 0, 0, 0.15);\n",
              "      filter: drop-shadow(0px 1px 2px rgba(0, 0, 0, 0.3));\n",
              "      fill: #FFFFFF;\n",
              "    }\n",
              "  </style>\n",
              "\n",
              "      <script>\n",
              "        const buttonEl =\n",
              "          document.querySelector('#df-8fd9311c-5b70-4cc6-a053-ae4cf0d81912 button.colab-df-convert');\n",
              "        buttonEl.style.display =\n",
              "          google.colab.kernel.accessAllowed ? 'block' : 'none';\n",
              "\n",
              "        async function convertToInteractive(key) {\n",
              "          const element = document.querySelector('#df-8fd9311c-5b70-4cc6-a053-ae4cf0d81912');\n",
              "          const dataTable =\n",
              "            await google.colab.kernel.invokeFunction('convertToInteractive',\n",
              "                                                     [key], {});\n",
              "          if (!dataTable) return;\n",
              "\n",
              "          const docLinkHtml = 'Like what you see? Visit the ' +\n",
              "            '<a target=\"_blank\" href=https://colab.research.google.com/notebooks/data_table.ipynb>data table notebook</a>'\n",
              "            + ' to learn more about interactive tables.';\n",
              "          element.innerHTML = '';\n",
              "          dataTable['output_type'] = 'display_data';\n",
              "          await google.colab.output.renderOutput(dataTable, element);\n",
              "          const docLink = document.createElement('div');\n",
              "          docLink.innerHTML = docLinkHtml;\n",
              "          element.appendChild(docLink);\n",
              "        }\n",
              "      </script>\n",
              "    </div>\n",
              "  </div>\n",
              "  "
            ],
            "text/plain": [
              "       Body ID                                        articleBody  \\\n",
              "0            1  Al-Sisi has denied Israeli reports stating tha...   \n",
              "1            1  Al-Sisi has denied Israeli reports stating tha...   \n",
              "2            1  Al-Sisi has denied Israeli reports stating tha...   \n",
              "3            1  Al-Sisi has denied Israeli reports stating tha...   \n",
              "4            1  Al-Sisi has denied Israeli reports stating tha...   \n",
              "...        ...                                                ...   \n",
              "25408     2586  Remember how much Republicans wanted to repeal...   \n",
              "25409     2586  Remember how much Republicans wanted to repeal...   \n",
              "25410     2586  Remember how much Republicans wanted to repeal...   \n",
              "25411     2586  Remember how much Republicans wanted to repeal...   \n",
              "25412     2586  Remember how much Republicans wanted to repeal...   \n",
              "\n",
              "                                                Headline     Stance  \n",
              "0      Apple installing safes in-store to protect gol...  unrelated  \n",
              "1      El-Sisi denies claims he'll give Sinai land to...      agree  \n",
              "2      Apple to keep gold Watch Editions in special i...  unrelated  \n",
              "3      Apple Stores to Keep Gold â??Editionâ?? Apple ...  unrelated  \n",
              "4      South Korean woman's hair 'eaten' by robot vac...  unrelated  \n",
              "...                                                  ...        ...  \n",
              "25408        A Sign That Obamacare Exchanges Are Failing   disagree  \n",
              "25409  Republicans call Obamacare a 'failure.' These ...      agree  \n",
              "25410  CBOâ??s Alternate Facts Show Obamacare is Unsu...   disagree  \n",
              "25411                               Why Obamacare failed   disagree  \n",
              "25412  The success of the Affordable Care Act is a hu...      agree  \n",
              "\n",
              "[25413 rows x 4 columns]"
            ]
          },
          "execution_count": 5,
          "metadata": {},
          "output_type": "execute_result"
        }
      ],
      "source": [
        "testf"
      ]
    },
    {
      "cell_type": "code",
      "execution_count": null,
      "metadata": {
        "id": "maGuKV-nF5mB"
      },
      "outputs": [],
      "source": [
        "totaldata=trainf['articleBody'].tolist()+trainf['Headline'].tolist()+ testf['articleBody'].tolist()+testf['Headline'].tolist()"
      ]
    },
    {
      "cell_type": "code",
      "execution_count": null,
      "metadata": {
        "id": "KU4yuwbOGDC5"
      },
      "outputs": [],
      "source": [
        "tfidf_vect = TfidfVectorizer(\n",
        "    analyzer='word', max_features=80, stop_words='english')"
      ]
    },
    {
      "cell_type": "code",
      "execution_count": null,
      "metadata": {
        "id": "dGYpDQ55GL4i"
      },
      "outputs": [],
      "source": [
        "tfidf_vect.fit(totaldata)"
      ]
    },
    {
      "cell_type": "code",
      "execution_count": null,
      "metadata": {
        "id": "8M4SUKiGGUak"
      },
      "outputs": [],
      "source": [
        "train_head_vec = tfidf_vect.transform(trainf['Headline'])\n",
        "train_body_vec = tfidf_vect.transform(trainf['articleBody'])\n",
        "test_head_vec = tfidf_vect.transform(testf['Headline'])\n",
        "test_body_vec = tfidf_vect.transform(testf['articleBody'])"
      ]
    },
    {
      "cell_type": "code",
      "execution_count": null,
      "metadata": {
        "colab": {
          "base_uri": "https://localhost:8080/"
        },
        "id": "cjLujwXQIqHB",
        "outputId": "cbaef7e6-9c07-4868-fcbc-e9181ff20c22"
      },
      "outputs": [
        {
          "name": "stdout",
          "output_type": "stream",
          "text": [
            "  (1, 36)\t1.0\n",
            "  (2, 29)\t1.0\n",
            "  (8, 29)\t1.0\n",
            "  (10, 54)\t0.7646647398870104\n",
            "  (10, 46)\t0.6444283013443238\n",
            "  (11, 76)\t1.0\n",
            "  (12, 60)\t1.0\n",
            "  (13, 54)\t0.7549266702007807\n",
            "  (13, 28)\t0.655809212057563\n",
            "  (15, 54)\t1.0\n",
            "  (17, 36)\t1.0\n",
            "  (18, 57)\t0.6788293663237139\n",
            "  (18, 29)\t0.7342960516144321\n",
            "  (19, 71)\t0.5232813921440274\n",
            "  (19, 53)\t0.4211654319338745\n",
            "  (19, 5)\t0.5161585963333895\n",
            "  (19, 0)\t0.531391161961607\n",
            "  (24, 54)\t0.42792248847656467\n",
            "  (24, 9)\t0.9038154368321136\n",
            "  (26, 9)\t1.0\n",
            "  (27, 50)\t1.0\n",
            "  (28, 37)\t0.4999659117121545\n",
            "  (28, 32)\t0.5815785212861513\n",
            "  (28, 23)\t0.641716846205901\n",
            "  (29, 56)\t0.7502590602542081\n",
            "  :\t:\n",
            "  (49956, 54)\t0.44911275132561534\n",
            "  (49956, 36)\t0.40998251617476666\n",
            "  (49956, 10)\t0.4534159306790189\n",
            "  (49958, 54)\t1.0\n",
            "  (49959, 37)\t0.7292401244234192\n",
            "  (49959, 24)\t0.6842578760459511\n",
            "  (49960, 76)\t0.8984624313973169\n",
            "  (49960, 54)\t0.439050406408674\n",
            "  (49961, 78)\t0.4620185119072578\n",
            "  (49961, 76)\t0.45952688875540815\n",
            "  (49961, 54)\t0.44911275132561534\n",
            "  (49961, 36)\t0.40998251617476666\n",
            "  (49961, 10)\t0.4534159306790189\n",
            "  (49962, 43)\t1.0\n",
            "  (49963, 30)\t1.0\n",
            "  (49964, 54)\t1.0\n",
            "  (49965, 3)\t1.0\n",
            "  (49966, 0)\t1.0\n",
            "  (49967, 36)\t0.6403355524848242\n",
            "  (49967, 0)\t0.7680952937129318\n",
            "  (49968, 36)\t0.6403355524848242\n",
            "  (49968, 0)\t0.7680952937129318\n",
            "  (49969, 0)\t1.0\n",
            "  (49970, 0)\t1.0\n",
            "  (49971, 0)\t1.0\n",
            "(49972, 80)\n"
          ]
        }
      ],
      "source": [
        "print(train_head_vec)\n",
        "print(train_head_vec.shape)"
      ]
    },
    {
      "cell_type": "code",
      "execution_count": null,
      "metadata": {
        "colab": {
          "base_uri": "https://localhost:8080/"
        },
        "id": "NJsJswb0Zgpv",
        "outputId": "d2b9fa00-1d36-441e-c7e0-a692185a3b4a"
      },
      "outputs": [
        {
          "name": "stdout",
          "output_type": "stream",
          "text": [
            "  (0, 66)\t0.10064691884956957\n",
            "  (0, 64)\t0.09276811985022926\n",
            "  (0, 61)\t0.11105881071156679\n",
            "  (0, 55)\t0.7411202618905149\n",
            "  (0, 54)\t0.19101636102965497\n",
            "  (0, 53)\t0.2210370799899344\n",
            "  (0, 51)\t0.34025817961316074\n",
            "  (0, 41)\t0.10874148438288235\n",
            "  (0, 37)\t0.12086982291504848\n",
            "  (0, 19)\t0.39095653536935093\n",
            "  (0, 9)\t0.1344819372940817\n",
            "  (0, 2)\t0.14554749539368594\n",
            "  (1, 66)\t0.10064691884956957\n",
            "  (1, 64)\t0.09276811985022926\n",
            "  (1, 61)\t0.11105881071156679\n",
            "  (1, 55)\t0.7411202618905149\n",
            "  (1, 54)\t0.19101636102965497\n",
            "  (1, 53)\t0.2210370799899344\n",
            "  (1, 51)\t0.34025817961316074\n",
            "  (1, 41)\t0.10874148438288235\n",
            "  (1, 37)\t0.12086982291504848\n",
            "  (1, 19)\t0.39095653536935093\n",
            "  (1, 9)\t0.1344819372940817\n",
            "  (1, 2)\t0.14554749539368594\n",
            "  (2, 66)\t0.10064691884956957\n",
            "  :\t:\n",
            "  (49967, 79)\t0.5927897170653849\n",
            "  (49967, 73)\t0.43382807946391705\n",
            "  (49967, 55)\t0.2802860173891112\n",
            "  (49967, 36)\t0.3956803782043677\n",
            "  (49967, 0)\t0.4746265221944405\n",
            "  (49968, 79)\t0.5927897170653849\n",
            "  (49968, 73)\t0.43382807946391705\n",
            "  (49968, 55)\t0.2802860173891112\n",
            "  (49968, 36)\t0.3956803782043677\n",
            "  (49968, 0)\t0.4746265221944405\n",
            "  (49969, 79)\t0.5927897170653849\n",
            "  (49969, 73)\t0.43382807946391705\n",
            "  (49969, 55)\t0.2802860173891112\n",
            "  (49969, 36)\t0.3956803782043677\n",
            "  (49969, 0)\t0.4746265221944405\n",
            "  (49970, 79)\t0.5927897170653849\n",
            "  (49970, 73)\t0.43382807946391705\n",
            "  (49970, 55)\t0.2802860173891112\n",
            "  (49970, 36)\t0.3956803782043677\n",
            "  (49970, 0)\t0.4746265221944405\n",
            "  (49971, 79)\t0.5927897170653849\n",
            "  (49971, 73)\t0.43382807946391705\n",
            "  (49971, 55)\t0.2802860173891112\n",
            "  (49971, 36)\t0.3956803782043677\n",
            "  (49971, 0)\t0.4746265221944405\n",
            "(49972, 80)\n"
          ]
        }
      ],
      "source": [
        "print(train_body_vec)\n",
        "print(train_body_vec.shape)"
      ]
    },
    {
      "cell_type": "code",
      "execution_count": null,
      "metadata": {
        "id": "33DVtm3OGbVR"
      },
      "outputs": [],
      "source": [
        "import nltk\n",
        "import numpy as np\n",
        "from sklearn import feature_extraction"
      ]
    },
    {
      "cell_type": "code",
      "execution_count": null,
      "metadata": {
        "id": "6Qn_lG7ZG_ZH"
      },
      "outputs": [],
      "source": [
        "wnl = nltk.WordNetLemmatizer()"
      ]
    },
    {
      "cell_type": "code",
      "execution_count": null,
      "metadata": {
        "id": "oV600bSzHCjj"
      },
      "outputs": [],
      "source": [
        "def normalize_word(w):\n",
        "    return wnl.lemmatize(w).lower()\n",
        "\n",
        "def get_tokenized_lemmas(s):\n",
        "    return [normalize_word(t) for t in nltk.word_tokenize(s)]\n",
        "\n",
        "def clean(s):\n",
        "    # Cleans a string: Lowercasing, trimming, removing non-alphanumeric\n",
        "    return \" \".join(re.findall(r'\\w+', s, flags=re.UNICODE)).lower()\n",
        "\n",
        "def remove_stopwords(l):\n",
        "    # Removes stopwords from a list of tokens\n",
        "    return [w for w in l if w not in feature_extraction.text.ENGLISH_STOP_WORDS]"
      ]
    },
    {
      "cell_type": "code",
      "execution_count": null,
      "metadata": {
        "id": "cwQ5LNUxGeOC"
      },
      "outputs": [],
      "source": [
        "def ngrams(input, n):\n",
        "  input = input.split(' ')\n",
        "  output = []\n",
        "  for i in range(len(input) - n + 1):\n",
        "    output.append(input[i:i + n])\n",
        "  return output\n",
        "\n",
        "def chargrams(input, n):\n",
        "  output = []\n",
        "  for i in range(len(input) - n + 1):\n",
        "    output.append(input[i:i + n])\n",
        "  return output\n",
        "\n",
        "def append_chargrams(features, text_headline, text_body, size):\n",
        "  grams = [' '.join(x) for x in chargrams(\" \".join(remove_stopwords(text_headline.split())), size)]\n",
        "  grams_hits = 0\n",
        "  grams_early_hits = 0\n",
        "  grams_first_hits = 0\n",
        "  for gram in grams:\n",
        "    if gram in text_body:\n",
        "      grams_hits += 1\n",
        "    if gram in text_body[:255]:\n",
        "      grams_early_hits += 1\n",
        "    if gram in text_body[:100]:\n",
        "      grams_first_hits += 1\n",
        "  features.append(grams_hits)\n",
        "  features.append(grams_early_hits)\n",
        "  features.append(grams_first_hits)\n",
        "  return features\n",
        "\n",
        "def append_ngrams(features, text_headline, text_body, size):\n",
        "  grams = [' '.join(x) for x in ngrams(text_headline, size)]\n",
        "  grams_hits = 0\n",
        "  grams_early_hits = 0\n",
        "  for gram in grams:\n",
        "    if gram in text_body:\n",
        "      grams_hits += 1\n",
        "    if gram in text_body[:255]:\n",
        "      grams_early_hits += 1\n",
        "  features.append(grams_hits)\n",
        "  features.append(grams_early_hits)\n",
        "  return features\n",
        "\n",
        "def hand_features(headlines, bodies):\n",
        "  def binary_co_occurence(headline, body):\n",
        "    # Count how many times a token in the title appears in the body text.\n",
        "    bin_count = 0\n",
        "    bin_count_early = 0    \n",
        "    for headline_token in clean(headline).split(\" \"):\n",
        "      if headline_token in clean(body):\n",
        "        bin_count += 1\n",
        "      if headline_token in clean(body)[:255]:\n",
        "        bin_count_early += 1\n",
        "    return [bin_count, bin_count_early]    \n",
        "\n",
        "  def binary_co_occurence_stops(headline, body):\n",
        "    # Count how many times a token in the title appears in the body text. \n",
        "    # Stopwords in the title are ignored.\n",
        "    bin_count = 0\n",
        "    bin_count_early = 0\n",
        "    for headline_token in remove_stopwords(clean(headline).split(\" \")):\n",
        "      if headline_token in clean(body):\n",
        "        bin_count += 1\n",
        "        bin_count_early += 1\n",
        "    return [bin_count, bin_count_early]\n",
        "    \n",
        "  def count_grams(headline, body):\n",
        "    # Count how many times an n-gram of the title\n",
        "    # appears in the entire body, and intro paragraph\n",
        "    clean_body = clean(body)\n",
        "    clean_headline = clean(headline)\n",
        "    features = []\n",
        "    features = append_chargrams(features, clean_headline, clean_body, 2)\n",
        "    features = append_chargrams(features, clean_headline, clean_body, 4)\n",
        "    features = append_chargrams(features, clean_headline, clean_body, 8)\n",
        "    features = append_chargrams(features, clean_headline, clean_body, 16)\n",
        "    features = append_ngrams(features, clean_headline, clean_body, 2)\n",
        "    features = append_ngrams(features, clean_headline, clean_body, 3)\n",
        "    features = append_ngrams(features, clean_headline, clean_body, 4)\n",
        "    features = append_ngrams(features, clean_headline, clean_body, 5)\n",
        "    features = append_ngrams(features, clean_headline, clean_body, 6)\n",
        "    return features\n",
        "\n",
        "  X = []\n",
        "  for i, (headline, body) in tqdm(enumerate((headlines, bodies))):\n",
        "    lst= binary_co_occurence(headline, body) + binary_co_occurence_stops(headline, body) + count_grams(headline, body)\n",
        "    X.append(lst)\n",
        "\n",
        "  X =np.array(X)\n",
        "  return X  "
      ]
    },
    {
      "cell_type": "code",
      "execution_count": null,
      "metadata": {
        "colab": {
          "base_uri": "https://localhost:8080/"
        },
        "id": "ZrVRY2S2HQmQ",
        "outputId": "ba95ed9e-4561-464d-920b-d0829dccd41a"
      },
      "outputs": [
        {
          "name": "stderr",
          "output_type": "stream",
          "text": [
            "49972it [03:13, 258.23it/s]\n",
            "25413it [01:30, 282.14it/s]\n"
          ]
        }
      ],
      "source": [
        "train_handF = hand_features(trainf['Headline'].tolist(), trainf['articleBody'].tolist())\n",
        "test_handF = hand_features(testf['Headline'].tolist(), testf['articleBody'].tolist())"
      ]
    },
    {
      "cell_type": "code",
      "execution_count": null,
      "metadata": {
        "colab": {
          "base_uri": "https://localhost:8080/"
        },
        "id": "7Kv393KDW1g7",
        "outputId": "1a139720-a59b-44b5-9c7e-21ced6ab0974"
      },
      "outputs": [
        {
          "name": "stdout",
          "output_type": "stream",
          "text": [
            "[[ 1  1  0 ...  0  0  0]\n",
            " [ 3  1  1 ...  0  0  0]\n",
            " [ 2  2  0 ...  0  0  0]\n",
            " ...\n",
            " [ 5  3  5 ...  0  0  0]\n",
            " [10  6  9 ...  0  0  0]\n",
            " [10  6  9 ...  0  0  0]]\n",
            "(49972, 26)\n"
          ]
        }
      ],
      "source": [
        "print(train_handF)\n",
        "print(train_handF.shape)"
      ]
    },
    {
      "cell_type": "code",
      "execution_count": null,
      "metadata": {
        "id": "d9nHS1tvMBtw"
      },
      "outputs": [],
      "source": [
        "# Combine the tfidf features of headline and body\n",
        "train_final= hstack([train_head_vec,train_body_vec]).toarray()\n",
        "test_final= hstack([test_head_vec,test_body_vec]).toarray()"
      ]
    },
    {
      "cell_type": "code",
      "execution_count": null,
      "metadata": {
        "id": "8-T-YUylMIh4"
      },
      "outputs": [],
      "source": [
        "# Combine both tfidf features and our handmade features\n",
        "train_final =np.concatenate((train_final,train_handF), axis=1)\n",
        "test_final =np.concatenate((test_final,test_handF), axis=1)"
      ]
    },
    {
      "cell_type": "code",
      "execution_count": null,
      "metadata": {
        "colab": {
          "base_uri": "https://localhost:8080/"
        },
        "id": "611fOpeXMO9v",
        "outputId": "abcabdf5-d46c-456b-a3e0-d716d1411123"
      },
      "outputs": [
        {
          "name": "stdout",
          "output_type": "stream",
          "text": [
            "<class 'numpy.ndarray'> (49972, 186) \n",
            " <class 'numpy.ndarray'> (25413, 186)\n"
          ]
        }
      ],
      "source": [
        "print(type(train_final), train_final.shape,'\\n', type(test_final), test_final.shape)"
      ]
    },
    {
      "cell_type": "code",
      "execution_count": null,
      "metadata": {
        "colab": {
          "base_uri": "https://localhost:8080/"
        },
        "id": "Xl2QslNh0QiD",
        "outputId": "9e6f184b-088c-40e9-f8d9-0c885f8fcd11"
      },
      "outputs": [
        {
          "name": "stdout",
          "output_type": "stream",
          "text": [
            "[[0. 0. 0. ... 0. 0. 0.]\n",
            " [0. 0. 0. ... 0. 0. 0.]\n",
            " [0. 0. 0. ... 0. 0. 0.]\n",
            " ...\n",
            " [1. 0. 0. ... 0. 0. 0.]\n",
            " [1. 0. 0. ... 0. 0. 0.]\n",
            " [1. 0. 0. ... 0. 0. 0.]]\n"
          ]
        }
      ],
      "source": [
        "print(train_final)"
      ]
    },
    {
      "cell_type": "code",
      "execution_count": null,
      "metadata": {
        "colab": {
          "base_uri": "https://localhost:8080/",
          "height": 206
        },
        "id": "JkGnnmd4MRB3",
        "outputId": "9f67336c-5070-4d34-89f9-bd17a90a8630"
      },
      "outputs": [
        {
          "data": {
            "text/html": [
              "\n",
              "  <div id=\"df-12e1302e-d809-442f-80bf-e5e15079b50f\">\n",
              "    <div class=\"colab-df-container\">\n",
              "      <div>\n",
              "<style scoped>\n",
              "    .dataframe tbody tr th:only-of-type {\n",
              "        vertical-align: middle;\n",
              "    }\n",
              "\n",
              "    .dataframe tbody tr th {\n",
              "        vertical-align: top;\n",
              "    }\n",
              "\n",
              "    .dataframe thead th {\n",
              "        text-align: right;\n",
              "    }\n",
              "</style>\n",
              "<table border=\"1\" class=\"dataframe\">\n",
              "  <thead>\n",
              "    <tr style=\"text-align: right;\">\n",
              "      <th></th>\n",
              "      <th>Body ID</th>\n",
              "      <th>articleBody</th>\n",
              "      <th>Headline</th>\n",
              "      <th>Stance</th>\n",
              "    </tr>\n",
              "  </thead>\n",
              "  <tbody>\n",
              "    <tr>\n",
              "      <th>0</th>\n",
              "      <td>0</td>\n",
              "      <td>A small meteorite crashed into a wooded area i...</td>\n",
              "      <td>Soldier shot, Parliament locked down after gun...</td>\n",
              "      <td>unrelated</td>\n",
              "    </tr>\n",
              "    <tr>\n",
              "      <th>1</th>\n",
              "      <td>0</td>\n",
              "      <td>A small meteorite crashed into a wooded area i...</td>\n",
              "      <td>Tourist dubbed Spider Man after spider burro...</td>\n",
              "      <td>unrelated</td>\n",
              "    </tr>\n",
              "    <tr>\n",
              "      <th>2</th>\n",
              "      <td>0</td>\n",
              "      <td>A small meteorite crashed into a wooded area i...</td>\n",
              "      <td>Luke Somers 'killed in failed rescue attempt i...</td>\n",
              "      <td>unrelated</td>\n",
              "    </tr>\n",
              "    <tr>\n",
              "      <th>3</th>\n",
              "      <td>0</td>\n",
              "      <td>A small meteorite crashed into a wooded area i...</td>\n",
              "      <td>BREAKING: Soldier shot at War Memorial in Ottawa</td>\n",
              "      <td>unrelated</td>\n",
              "    </tr>\n",
              "    <tr>\n",
              "      <th>4</th>\n",
              "      <td>0</td>\n",
              "      <td>A small meteorite crashed into a wooded area i...</td>\n",
              "      <td>Giant 8ft 9in catfish weighing 19 stone caught...</td>\n",
              "      <td>unrelated</td>\n",
              "    </tr>\n",
              "  </tbody>\n",
              "</table>\n",
              "</div>\n",
              "      <button class=\"colab-df-convert\" onclick=\"convertToInteractive('df-12e1302e-d809-442f-80bf-e5e15079b50f')\"\n",
              "              title=\"Convert this dataframe to an interactive table.\"\n",
              "              style=\"display:none;\">\n",
              "        \n",
              "  <svg xmlns=\"http://www.w3.org/2000/svg\" height=\"24px\"viewBox=\"0 0 24 24\"\n",
              "       width=\"24px\">\n",
              "    <path d=\"M0 0h24v24H0V0z\" fill=\"none\"/>\n",
              "    <path d=\"M18.56 5.44l.94 2.06.94-2.06 2.06-.94-2.06-.94-.94-2.06-.94 2.06-2.06.94zm-11 1L8.5 8.5l.94-2.06 2.06-.94-2.06-.94L8.5 2.5l-.94 2.06-2.06.94zm10 10l.94 2.06.94-2.06 2.06-.94-2.06-.94-.94-2.06-.94 2.06-2.06.94z\"/><path d=\"M17.41 7.96l-1.37-1.37c-.4-.4-.92-.59-1.43-.59-.52 0-1.04.2-1.43.59L10.3 9.45l-7.72 7.72c-.78.78-.78 2.05 0 2.83L4 21.41c.39.39.9.59 1.41.59.51 0 1.02-.2 1.41-.59l7.78-7.78 2.81-2.81c.8-.78.8-2.07 0-2.86zM5.41 20L4 18.59l7.72-7.72 1.47 1.35L5.41 20z\"/>\n",
              "  </svg>\n",
              "      </button>\n",
              "      \n",
              "  <style>\n",
              "    .colab-df-container {\n",
              "      display:flex;\n",
              "      flex-wrap:wrap;\n",
              "      gap: 12px;\n",
              "    }\n",
              "\n",
              "    .colab-df-convert {\n",
              "      background-color: #E8F0FE;\n",
              "      border: none;\n",
              "      border-radius: 50%;\n",
              "      cursor: pointer;\n",
              "      display: none;\n",
              "      fill: #1967D2;\n",
              "      height: 32px;\n",
              "      padding: 0 0 0 0;\n",
              "      width: 32px;\n",
              "    }\n",
              "\n",
              "    .colab-df-convert:hover {\n",
              "      background-color: #E2EBFA;\n",
              "      box-shadow: 0px 1px 2px rgba(60, 64, 67, 0.3), 0px 1px 3px 1px rgba(60, 64, 67, 0.15);\n",
              "      fill: #174EA6;\n",
              "    }\n",
              "\n",
              "    [theme=dark] .colab-df-convert {\n",
              "      background-color: #3B4455;\n",
              "      fill: #D2E3FC;\n",
              "    }\n",
              "\n",
              "    [theme=dark] .colab-df-convert:hover {\n",
              "      background-color: #434B5C;\n",
              "      box-shadow: 0px 1px 3px 1px rgba(0, 0, 0, 0.15);\n",
              "      filter: drop-shadow(0px 1px 2px rgba(0, 0, 0, 0.3));\n",
              "      fill: #FFFFFF;\n",
              "    }\n",
              "  </style>\n",
              "\n",
              "      <script>\n",
              "        const buttonEl =\n",
              "          document.querySelector('#df-12e1302e-d809-442f-80bf-e5e15079b50f button.colab-df-convert');\n",
              "        buttonEl.style.display =\n",
              "          google.colab.kernel.accessAllowed ? 'block' : 'none';\n",
              "\n",
              "        async function convertToInteractive(key) {\n",
              "          const element = document.querySelector('#df-12e1302e-d809-442f-80bf-e5e15079b50f');\n",
              "          const dataTable =\n",
              "            await google.colab.kernel.invokeFunction('convertToInteractive',\n",
              "                                                     [key], {});\n",
              "          if (!dataTable) return;\n",
              "\n",
              "          const docLinkHtml = 'Like what you see? Visit the ' +\n",
              "            '<a target=\"_blank\" href=https://colab.research.google.com/notebooks/data_table.ipynb>data table notebook</a>'\n",
              "            + ' to learn more about interactive tables.';\n",
              "          element.innerHTML = '';\n",
              "          dataTable['output_type'] = 'display_data';\n",
              "          await google.colab.output.renderOutput(dataTable, element);\n",
              "          const docLink = document.createElement('div');\n",
              "          docLink.innerHTML = docLinkHtml;\n",
              "          element.appendChild(docLink);\n",
              "        }\n",
              "      </script>\n",
              "    </div>\n",
              "  </div>\n",
              "  "
            ],
            "text/plain": [
              "   Body ID                                        articleBody  \\\n",
              "0        0  A small meteorite crashed into a wooded area i...   \n",
              "1        0  A small meteorite crashed into a wooded area i...   \n",
              "2        0  A small meteorite crashed into a wooded area i...   \n",
              "3        0  A small meteorite crashed into a wooded area i...   \n",
              "4        0  A small meteorite crashed into a wooded area i...   \n",
              "\n",
              "                                            Headline     Stance  \n",
              "0  Soldier shot, Parliament locked down after gun...  unrelated  \n",
              "1  Tourist dubbed Spider Man after spider burro...  unrelated  \n",
              "2  Luke Somers 'killed in failed rescue attempt i...  unrelated  \n",
              "3   BREAKING: Soldier shot at War Memorial in Ottawa  unrelated  \n",
              "4  Giant 8ft 9in catfish weighing 19 stone caught...  unrelated  "
            ]
          },
          "execution_count": 23,
          "metadata": {},
          "output_type": "execute_result"
        }
      ],
      "source": [
        "trainf.head()"
      ]
    },
    {
      "cell_type": "code",
      "execution_count": null,
      "metadata": {
        "id": "RFxs7W9gMSBE"
      },
      "outputs": [],
      "source": [
        "train_labels= trainf['Stance'].copy()\n",
        "test_labels= testf['Stance'].copy()"
      ]
    },
    {
      "cell_type": "code",
      "execution_count": null,
      "metadata": {
        "colab": {
          "base_uri": "https://localhost:8080/"
        },
        "id": "ecXHGjtGYjl2",
        "outputId": "03935bda-7236-41ec-e651-581e4c0e8b56"
      },
      "outputs": [
        {
          "name": "stdout",
          "output_type": "stream",
          "text": [
            "unrelated    36545\n",
            "discuss       8909\n",
            "agree         3678\n",
            "disagree       840\n",
            "Name: Stance, dtype: int64\n"
          ]
        }
      ],
      "source": [
        "print(train_labels.value_counts())"
      ]
    },
    {
      "cell_type": "code",
      "execution_count": null,
      "metadata": {
        "id": "oRcCEFPmMaNG"
      },
      "outputs": [],
      "source": [
        "from keras.layers import Input, Dense, Dropout\n",
        "from keras.models import Sequential\n",
        "from tensorflow import keras"
      ]
    },
    {
      "cell_type": "code",
      "execution_count": null,
      "metadata": {
        "id": "CDL22S0FMkiD"
      },
      "outputs": [],
      "source": [
        "model = Sequential()\n",
        "model.add(Input(shape=(186,)))\n",
        "model.add(keras.layers.Dense(200 , activation='sigmoid'))\n",
        "model.add(keras.layers.Dropout(0.25))\n",
        "model.add(keras.layers.Dense(100 , activation='sigmoid'))\n",
        "model.add(keras.layers.Dropout(0.25))\n",
        "model.add(keras.layers.Dense(50 , activation='sigmoid'))\n",
        "model.add(keras.layers.Dense(4 , activation='softmax'))"
      ]
    },
    {
      "cell_type": "code",
      "execution_count": null,
      "metadata": {
        "colab": {
          "base_uri": "https://localhost:8080/"
        },
        "id": "Yeot4iO1MkJQ",
        "outputId": "dd93d9bf-83c5-4e86-ce02-e0abe4ad252b"
      },
      "outputs": [
        {
          "name": "stdout",
          "output_type": "stream",
          "text": [
            "Model: \"sequential\"\n",
            "_________________________________________________________________\n",
            " Layer (type)                Output Shape              Param #   \n",
            "=================================================================\n",
            " dense (Dense)               (None, 200)               37400     \n",
            "                                                                 \n",
            " dropout (Dropout)           (None, 200)               0         \n",
            "                                                                 \n",
            " dense_1 (Dense)             (None, 100)               20100     \n",
            "                                                                 \n",
            " dropout_1 (Dropout)         (None, 100)               0         \n",
            "                                                                 \n",
            " dense_2 (Dense)             (None, 50)                5050      \n",
            "                                                                 \n",
            " dense_3 (Dense)             (None, 4)                 204       \n",
            "                                                                 \n",
            "=================================================================\n",
            "Total params: 62,754\n",
            "Trainable params: 62,754\n",
            "Non-trainable params: 0\n",
            "_________________________________________________________________\n"
          ]
        }
      ],
      "source": [
        "model.summary()"
      ]
    },
    {
      "cell_type": "code",
      "execution_count": null,
      "metadata": {
        "colab": {
          "base_uri": "https://localhost:8080/"
        },
        "id": "FU4nfll5M6LQ",
        "outputId": "c13a7347-b8ab-4ca3-f8df-14dd1c9ce89d"
      },
      "outputs": [
        {
          "name": "stdout",
          "output_type": "stream",
          "text": [
            "[[0 0 0 1]\n",
            " [0 0 0 1]\n",
            " [0 0 0 1]\n",
            " ...\n",
            " [1 0 0 0]\n",
            " [1 0 0 0]\n",
            " [1 0 0 0]]\n",
            "(49972, 4)\n"
          ]
        }
      ],
      "source": [
        "Y = pd.get_dummies(trainf['Stance']).values\n",
        "print(Y)\n",
        "print(Y.shape)"
      ]
    },
    {
      "cell_type": "code",
      "execution_count": null,
      "metadata": {
        "id": "Ls21PtWENAPZ"
      },
      "outputs": [],
      "source": [
        "testY = pd.get_dummies(testf['Stance']).values"
      ]
    },
    {
      "cell_type": "code",
      "execution_count": null,
      "metadata": {
        "id": "R7Xl4pOhMkPM"
      },
      "outputs": [],
      "source": [
        "model.compile(optimizer='adam', loss ='categorical_crossentropy', metrics = ['accuracy'])"
      ]
    },
    {
      "cell_type": "code",
      "execution_count": null,
      "metadata": {
        "id": "a1hcbRiACPfJ"
      },
      "outputs": [],
      "source": [
        "from keras.callbacks import EarlyStopping\n",
        "early_stopping_monitor = EarlyStopping(patience=4,monitor='val_accuracy')"
      ]
    },
    {
      "cell_type": "code",
      "execution_count": null,
      "metadata": {
        "colab": {
          "base_uri": "https://localhost:8080/"
        },
        "id": "GZWdY05jNIfY",
        "outputId": "b4a5e7af-3b56-4234-fa80-93a5a69b1ec0"
      },
      "outputs": [
        {
          "name": "stdout",
          "output_type": "stream",
          "text": [
            "Epoch 1/20\n",
            "3998/3998 [==============================] - 12s 3ms/step - loss: 0.3254 - accuracy: 0.8801 - val_loss: 0.4189 - val_accuracy: 0.8418\n",
            "Epoch 2/20\n",
            "3998/3998 [==============================] - 12s 3ms/step - loss: 0.2614 - accuracy: 0.8996 - val_loss: 0.3950 - val_accuracy: 0.8515\n",
            "Epoch 3/20\n",
            "3998/3998 [==============================] - 12s 3ms/step - loss: 0.2486 - accuracy: 0.9068 - val_loss: 0.4165 - val_accuracy: 0.8513\n",
            "Epoch 4/20\n",
            "3998/3998 [==============================] - 11s 3ms/step - loss: 0.2429 - accuracy: 0.9083 - val_loss: 0.3813 - val_accuracy: 0.8522\n",
            "Epoch 5/20\n",
            "3998/3998 [==============================] - 11s 3ms/step - loss: 0.2361 - accuracy: 0.9099 - val_loss: 0.3965 - val_accuracy: 0.8576\n",
            "Epoch 6/20\n",
            "3998/3998 [==============================] - 11s 3ms/step - loss: 0.2310 - accuracy: 0.9128 - val_loss: 0.3944 - val_accuracy: 0.8551\n",
            "Epoch 7/20\n",
            "3998/3998 [==============================] - 11s 3ms/step - loss: 0.2273 - accuracy: 0.9146 - val_loss: 0.3905 - val_accuracy: 0.8555\n",
            "Epoch 8/20\n",
            "3998/3998 [==============================] - 13s 3ms/step - loss: 0.2235 - accuracy: 0.9154 - val_loss: 0.3772 - val_accuracy: 0.8592\n",
            "Epoch 9/20\n",
            "3998/3998 [==============================] - 11s 3ms/step - loss: 0.2209 - accuracy: 0.9158 - val_loss: 0.3807 - val_accuracy: 0.8564\n",
            "Epoch 10/20\n",
            "3998/3998 [==============================] - 11s 3ms/step - loss: 0.2167 - accuracy: 0.9167 - val_loss: 0.3889 - val_accuracy: 0.8563\n",
            "Epoch 11/20\n",
            "3998/3998 [==============================] - 11s 3ms/step - loss: 0.2134 - accuracy: 0.9193 - val_loss: 0.3907 - val_accuracy: 0.8554\n",
            "Epoch 12/20\n",
            "3998/3998 [==============================] - 11s 3ms/step - loss: 0.2093 - accuracy: 0.9211 - val_loss: 0.3910 - val_accuracy: 0.8557\n"
          ]
        }
      ],
      "source": [
        "history = model.fit(train_final,Y,epochs=20,batch_size=10,validation_split=0.2,verbose=1,callbacks=[early_stopping_monitor])"
      ]
    },
    {
      "cell_type": "code",
      "execution_count": null,
      "metadata": {
        "id": "yTcpI9EgNn-8"
      },
      "outputs": [],
      "source": [
        "loss = history.history['loss']\n",
        "accuracy = history.history['accuracy']\n",
        "val_loss = history.history['val_loss']\n",
        "val_accuracy = history.history['val_accuracy']"
      ]
    },
    {
      "cell_type": "code",
      "execution_count": null,
      "metadata": {
        "colab": {
          "base_uri": "https://localhost:8080/",
          "height": 548
        },
        "id": "qx3IQzcV8NxV",
        "outputId": "8302a62d-2702-4846-b81b-70d24d8b4500"
      },
      "outputs": [
        {
          "data": {
            "image/png": "[encoded data removed]",
            "text/plain": [
              "<Figure size 432x288 with 1 Axes>"
            ]
          },
          "metadata": {
            "needs_background": "light"
          },
          "output_type": "display_data"
        },
        {
          "data": {
            "text/plain": [
              "<Figure size 432x288 with 0 Axes>"
            ]
          },
          "metadata": {},
          "output_type": "display_data"
        },
        {
          "data": {
            "image/png": "[encoded data removed]",
            "text/plain": [
              "<Figure size 432x288 with 1 Axes>"
            ]
          },
          "metadata": {
            "needs_background": "light"
          },
          "output_type": "display_data"
        },
        {
          "data": {
            "text/plain": [
              "<Figure size 432x288 with 0 Axes>"
            ]
          },
          "metadata": {},
          "output_type": "display_data"
        }
      ],
      "source": [
        "plt.plot(range(len(loss)), loss, label=\"training loss\")\n",
        "plt.plot(range(len(val_loss)), val_loss, label=\"validation loss\")\n",
        "plt.legend(loc=\"best\")\n",
        "plt.figure(figsize=(6,4))\n",
        "plt.show()\n",
        "plt.plot(range(len(accuracy)), accuracy, label=\"training accuracy\")\n",
        "plt.plot(range(len(val_accuracy)), val_accuracy, label=\"validation accuracy\")\n",
        "plt.legend(loc=\"best\")\n",
        "plt.figure(figsize=(6,4))\n",
        "plt.show()"
      ]
    },
    {
      "cell_type": "code",
      "execution_count": null,
      "metadata": {
        "id": "lxywkyOD8NrA"
      },
      "outputs": [],
      "source": []
    },
    {
      "cell_type": "code",
      "execution_count": null,
      "metadata": {
        "colab": {
          "base_uri": "https://localhost:8080/"
        },
        "id": "aF6k0AF2NzMU",
        "outputId": "e59e1e99-cf67-487e-b7cb-4f9ce9bdc407"
      },
      "outputs": [
        {
          "name": "stdout",
          "output_type": "stream",
          "text": [
            "795/795 [==============================] - 2s 2ms/step - loss: 0.3792 - accuracy: 0.8636\n"
          ]
        },
        {
          "data": {
            "text/plain": [
              "[0.3791715204715729, 0.8636131286621094]"
            ]
          },
          "execution_count": 38,
          "metadata": {},
          "output_type": "execute_result"
        }
      ],
      "source": [
        "model.evaluate([test_final],[testY])"
      ]
    },
    {
      "cell_type": "code",
      "execution_count": null,
      "metadata": {
        "colab": {
          "base_uri": "https://localhost:8080/"
        },
        "id": "CsTvSo00Nn0b",
        "outputId": "441fbeea-25c5-447f-ca8e-c52439e8f562"
      },
      "outputs": [
        {
          "name": "stdout",
          "output_type": "stream",
          "text": [
            "795/795 [==============================] - 1s 2ms/step\n"
          ]
        }
      ],
      "source": [
        "prediction = model.predict([test_final],verbose=1)"
      ]
    },
    {
      "cell_type": "code",
      "execution_count": null,
      "metadata": {
        "id": "sNbA2zyfOee4"
      },
      "outputs": [],
      "source": []
    },
    {
      "cell_type": "code",
      "execution_count": null,
      "metadata": {
        "colab": {
          "base_uri": "https://localhost:8080/"
        },
        "id": "zfiOmK0sN8Ao",
        "outputId": "d4e57d75-49ba-4e4b-f754-54b0228461bc"
      },
      "outputs": [
        {
          "data": {
            "text/plain": [
              "array([[  728,     0,   908,   267],\n",
              "       [  232,     5,   238,   222],\n",
              "       [  649,     0,  3150,   665],\n",
              "       [   33,     0,   252, 18064]])"
            ]
          },
          "execution_count": 40,
          "metadata": {},
          "output_type": "execute_result"
        }
      ],
      "source": [
        "from sklearn.metrics import confusion_matrix\n",
        "cfm = confusion_matrix(testY.argmax(axis=1), prediction.argmax(axis=1))\n",
        "cfm"
      ]
    },
    {
      "cell_type": "code",
      "execution_count": null,
      "metadata": {
        "colab": {
          "base_uri": "https://localhost:8080/",
          "height": 349
        },
        "id": "eCWh5OaJ5IDW",
        "outputId": "10a6cf0d-1fc3-41e1-9f1b-9f0c22a69cee"
      },
      "outputs": [
        {
          "data": {
            "image/png": "[encoded data removed]",
            "text/plain": [
              "<Figure size 720x360 with 2 Axes>"
            ]
          },
          "metadata": {
            "needs_background": "light"
          },
          "output_type": "display_data"
        }
      ],
      "source": [
        "# PLotting Confusion Matrix\n",
        "categories = ['Agrees', 'Disagrees', 'Discuss', 'Unrelated']\n",
        "\n",
        "CMatrix = pd.DataFrame( (cfm) , columns=categories, index =categories)\n",
        "\n",
        "plt.figure(figsize=(10, 5))\n",
        "ax = sns.heatmap(CMatrix, annot = True, fmt = 'g' ,vmin = 0, vmax = 2500,cmap = 'Reds')\n",
        "ax.set_xlabel('Predicted',fontsize = 10,weight = 'bold')\n",
        "ax.set_xticklabels(ax.get_xticklabels(), fontsize= 8);\n",
        "ax.set_ylabel('Actual',fontsize = 10,weight = 'bold')\n",
        "ax.set_yticklabels(ax.get_yticklabels(), fontsize=8)\n",
        "ax.set_title('Confusion Matrix',fontsize = 12,weight = 'bold');\n",
        "plt.show()"
      ]
    },
    {
      "cell_type": "code",
      "execution_count": null,
      "metadata": {
        "colab": {
          "base_uri": "https://localhost:8080/"
        },
        "id": "ETc1OwHy_jOO",
        "outputId": "c7f47ec1-2946-4968-bfc5-706ed31f2fc9"
      },
      "outputs": [
        {
          "name": "stdout",
          "output_type": "stream",
          "text": [
            "              precision    recall  f1-score   support\n",
            "\n",
            "      Agrees       0.44      0.38      0.41      1903\n",
            "   Disagrees       1.00      0.01      0.01       697\n",
            "     Discuss       0.69      0.71      0.70      4464\n",
            "   Unrelated       0.94      0.98      0.96     18349\n",
            "\n",
            "    accuracy                           0.86     25413\n",
            "   macro avg       0.77      0.52      0.52     25413\n",
            "weighted avg       0.86      0.86      0.85     25413\n",
            "\n"
          ]
        }
      ],
      "source": [
        "from sklearn.metrics import classification_report\n",
        "cr = classification_report(testY.argmax(axis=1),prediction.argmax(axis=1), target_names=['Agrees','Disagrees','Discuss','Unrelated'])\n",
        "print(cr)"
      ]
    },
    {
      "cell_type": "code",
      "execution_count": null,
      "metadata": {
        "colab": {
          "base_uri": "https://localhost:8080/"
        },
        "id": "FAyRiOOon4B0",
        "outputId": "8805ace5-72e1-4ba1-f651-c75a1f205165"
      },
      "outputs": [
        {
          "data": {
            "text/plain": [
              "unrelated    18349\n",
              "discuss       4464\n",
              "agree         1903\n",
              "disagree       697\n",
              "Name: Stance, dtype: int64"
            ]
          },
          "execution_count": 44,
          "metadata": {},
          "output_type": "execute_result"
        }
      ],
      "source": [
        "test_labels.value_counts()"
      ]
    },
    {
      "cell_type": "code",
      "execution_count": null,
      "metadata": {
        "id": "h_FIva0jvZMY"
      },
      "outputs": [],
      "source": []
    }
  ],
  "metadata": {
    "colab": {
      "collapsed_sections": [],
      "provenance": []
    },
    "kernelspec": {
      "display_name": "Python 3",
      "name": "python3"
    },
    "language_info": {
      "name": "python"
    }
  },
  "nbformat": 4,
  "nbformat_minor": 0
}
